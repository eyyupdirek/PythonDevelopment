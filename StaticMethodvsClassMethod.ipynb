{
 "cells": [
  {
   "cell_type": "code",
   "execution_count": 15,
   "metadata": {},
   "outputs": [
    {
     "name": "stdout",
     "output_type": "stream",
     "text": [
      "The sum is: 15\n"
     ]
    }
   ],
   "source": [
    "class Mathematics:\n",
    "\n",
    "    def addNumbers(x, y):\n",
    "        return x + y\n",
    "\n",
    "# create addNumbers static method\n",
    "Mathematics.addNumbers = staticmethod(Mathematics.addNumbers)\n",
    "\n",
    "print('The sum is:', Mathematics.addNumbers(5, 10))"
   ]
  },
  {
   "cell_type": "code",
   "execution_count": 19,
   "metadata": {},
   "outputs": [
    {
     "name": "stdout",
     "output_type": "stream",
     "text": [
      "I'm an instance method!\n"
     ]
    },
    {
     "ename": "NameError",
     "evalue": "name 'self' is not defined",
     "output_type": "error",
     "traceback": [
      "\u001b[1;31m---------------------------------------------------------------------------\u001b[0m",
      "\u001b[1;31mNameError\u001b[0m                                 Traceback (most recent call last)",
      "\u001b[1;32m<ipython-input-19-c05d7bf82d6a>\u001b[0m in \u001b[0;36m<module>\u001b[1;34m\u001b[0m\n\u001b[0;32m     11\u001b[0m     \u001b[0mprint\u001b[0m\u001b[1;33m(\u001b[0m\u001b[1;34m'My name is '\u001b[0m \u001b[1;33m+\u001b[0m \u001b[0mself\u001b[0m\u001b[1;33m.\u001b[0m\u001b[0mname\u001b[0m\u001b[1;33m)\u001b[0m\u001b[1;33m\u001b[0m\u001b[1;33m\u001b[0m\u001b[0m\n\u001b[0;32m     12\u001b[0m \u001b[1;33m\u001b[0m\u001b[0m\n\u001b[1;32m---> 13\u001b[1;33m \u001b[0mDecoratorExample\u001b[0m\u001b[1;33m.\u001b[0m\u001b[0mexample_function\u001b[0m\u001b[1;33m(\u001b[0m\u001b[1;33m)\u001b[0m\u001b[1;33m\u001b[0m\u001b[1;33m\u001b[0m\u001b[0m\n\u001b[0m\u001b[0;32m     14\u001b[0m \u001b[1;31m# FAILS example_function() missing 1 required positional argument: 'self'\u001b[0m\u001b[1;33m\u001b[0m\u001b[1;33m\u001b[0m\u001b[1;33m\u001b[0m\u001b[0m\n",
      "\u001b[1;32m<ipython-input-19-c05d7bf82d6a>\u001b[0m in \u001b[0;36mexample_function\u001b[1;34m()\u001b[0m\n\u001b[0;32m      9\u001b[0m     \u001b[1;34m\"\"\" This method is an instance method! \"\"\"\u001b[0m\u001b[1;33m\u001b[0m\u001b[1;33m\u001b[0m\u001b[0m\n\u001b[0;32m     10\u001b[0m     \u001b[0mprint\u001b[0m\u001b[1;33m(\u001b[0m\u001b[1;34m'I\\'m an instance method!'\u001b[0m\u001b[1;33m)\u001b[0m\u001b[1;33m\u001b[0m\u001b[1;33m\u001b[0m\u001b[0m\n\u001b[1;32m---> 11\u001b[1;33m     \u001b[0mprint\u001b[0m\u001b[1;33m(\u001b[0m\u001b[1;34m'My name is '\u001b[0m \u001b[1;33m+\u001b[0m \u001b[0mself\u001b[0m\u001b[1;33m.\u001b[0m\u001b[0mname\u001b[0m\u001b[1;33m)\u001b[0m\u001b[1;33m\u001b[0m\u001b[1;33m\u001b[0m\u001b[0m\n\u001b[0m\u001b[0;32m     12\u001b[0m \u001b[1;33m\u001b[0m\u001b[0m\n\u001b[0;32m     13\u001b[0m \u001b[0mDecoratorExample\u001b[0m\u001b[1;33m.\u001b[0m\u001b[0mexample_function\u001b[0m\u001b[1;33m(\u001b[0m\u001b[1;33m)\u001b[0m\u001b[1;33m\u001b[0m\u001b[1;33m\u001b[0m\u001b[0m\n",
      "\u001b[1;31mNameError\u001b[0m: name 'self' is not defined"
     ]
    }
   ],
   "source": [
    "class DecoratorExample:\n",
    "  \"\"\" Example Class \"\"\"\n",
    "  def __init__(self):\n",
    "    \"\"\" Example Setup \"\"\"\n",
    "    print('Hello, World!')\n",
    "    self.name = 'Decorator_Example'\n",
    "  @staticmethod\n",
    "  def example_function():\n",
    "    \"\"\" This method is an instance method! \"\"\"\n",
    "    print('I\\'m an instance method!')\n",
    "    print('My name is ' + self.name)\n",
    " \n",
    "DecoratorExample.example_function()\n",
    "# FAILS example_function() missing 1 required positional argument: 'self'\n"
   ]
  },
  {
   "cell_type": "code",
   "execution_count": 29,
   "metadata": {},
   "outputs": [
    {
     "name": "stdout",
     "output_type": "stream",
     "text": [
      "Hello, World!\n",
      "I'm an instance method!\n",
      "My name is Decorator_Example\n"
     ]
    }
   ],
   "source": [
    "class DecoratorExample:\n",
    "  \"\"\" Example Class \"\"\"\n",
    "  def __init__(self):\n",
    "    \"\"\" Example Setup \"\"\"\n",
    "    print('Hello, World!')\n",
    "    self.name = 'Decorator_Example'\n",
    "\n",
    "  def example_function(self):\n",
    "    \"\"\" This method is an instance method! \"\"\"\n",
    "    print('I\\'m an instance method!')\n",
    "    print('My name is ' + self.name)\n",
    " \n",
    "DecoratorExample().example_function()"
   ]
  },
  {
   "cell_type": "markdown",
   "metadata": {},
   "source": [
    "The @staticmethod decorator was used to tell Python that this method is a static method.\n",
    "Static methods are great for utility functions, which perform a task in isolation. They don’t need to (and cannot) access class data. They should be completely self-contained, and only work with data passed in as arguments. You may use a static method to add two numbers together, or print a given string."
   ]
  },
  {
   "cell_type": "code",
   "execution_count": 11,
   "metadata": {},
   "outputs": [
    {
     "name": "stdout",
     "output_type": "stream",
     "text": [
      "Hello, World!\n",
      "I'm an instance method!\n",
      "My name is Decorator_Example\n"
     ]
    }
   ],
   "source": [
    "##INSTANCE METHOD\n",
    "\n",
    "class DecoratorExample:\n",
    "  \"\"\" Example Class \"\"\"\n",
    "  def __init__(self):\n",
    "    \"\"\" Example Setup \"\"\"\n",
    "    print('Hello, World!')\n",
    "    self.name = 'Decorator_Example'\n",
    "\n",
    "  def example_function(self):\n",
    "    \"\"\" This method is an instance method! \"\"\"\n",
    "    print('I\\'m an instance method!')\n",
    "    print('My name is ' + self.name)\n",
    " \n",
    "DecoratorExample().example_function()"
   ]
  },
  {
   "cell_type": "code",
   "execution_count": 32,
   "metadata": {},
   "outputs": [
    {
     "name": "stdout",
     "output_type": "stream",
     "text": [
      "I'm a class method!\n",
      "Hello!\n"
     ]
    }
   ],
   "source": [
    "class DecoratorExample:\n",
    "  \"\"\" Example Class \"\"\"\n",
    "  def __init__(self):\n",
    "    \"\"\" Example Setup \"\"\"\n",
    "    print('Hello, World!') \n",
    "\n",
    "  @classmethod\n",
    "  def example_function(cls):\n",
    "    \"\"\" This method is a class method! \"\"\"\n",
    "    print('I\\'m a class method!')\n",
    "    cls.some_other_function()\n",
    "\n",
    "  @staticmethod\n",
    "  def some_other_function():\n",
    "    print('Hello!')\n",
    " \n",
    "\n",
    "DecoratorExample.example_function()"
   ]
  },
  {
   "cell_type": "markdown",
   "metadata": {},
   "source": [
    "Class methods are the third and final OOP method type to know. Class methods know about their class. They can’t access specific instance data, but they can call other static methods.\n",
    "\n",
    "Class methods don’t need self as an argument, but they do need a parameter called cls. This stands for class, and like self, gets automatically passed in by Python.\n",
    "\n",
    "Class methods are created using the @classmethod decorator.\n",
    "\n",
    "!!!They can modify common attributes accross all instances."
   ]
  },
  {
   "cell_type": "markdown",
   "metadata": {},
   "source": [
    "##Instance Methods: The most common method type. Able to access data and properties unique to each instance.\n",
    "##Static Methods: Cannot access anything else in the class. Totally self-contained code.\n",
    "##Class Methods: Can access limited methods in the class. Can modify class specific details."
   ]
  }
 ],
 "metadata": {
  "kernelspec": {
   "display_name": "Python 3",
   "language": "python",
   "name": "python3"
  },
  "language_info": {
   "codemirror_mode": {
    "name": "ipython",
    "version": 3
   },
   "file_extension": ".py",
   "mimetype": "text/x-python",
   "name": "python",
   "nbconvert_exporter": "python",
   "pygments_lexer": "ipython3",
   "version": "3.7.1"
  }
 },
 "nbformat": 4,
 "nbformat_minor": 2
}
